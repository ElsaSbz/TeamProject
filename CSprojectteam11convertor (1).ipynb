{
 "cells": [
  {
   "cell_type": "markdown",
   "id": "7759fcc9-7242-4458-9007-5ca832b1a4c3",
   "metadata": {},
   "source": [
    "<h1>Group 11 Project</h1>\n",
    "\n",
    "**Members :**\n",
    "1. Shadi Sabzali\n",
    "2. Kapugedara Harshani Nirmala Kumari Abesinghe\n",
    "3. Rivini Chethya Yakupitiyage\n",
    "4. Samudra Sandamali Bandara Herath Mudiyanselage\n",
    "5. Shanki Chaminda Sumanarathna Aaryachakra Bandaranayaka Thewanga Mudiyanselage\n",
    "6.  Zahra Sadeghi Jalalabadi"
   ]
  },
  {
   "cell_type": "markdown",
   "id": "0250c941-ea6d-4b26-9c8c-0db6cabc8b51",
   "metadata": {},
   "source": [
    "**Convertor**\n",
    "\n",
    "\n",
    "Create a program that can be used to converttemperature, length, weight, pressure.\n",
    "\n",
    "Your program should have a menu displayed for the user to choose from, where are listed the convertion options:\n",
    "\n",
    "-temperature \n",
    "fahrenheit to celsius\n",
    "celsius to fahrenheit \n",
    "\n",
    "-length\n",
    "miles to km km to miles\n",
    "\n",
    "-weight\n",
    "pound to kilogramms \n",
    "kg to poundexit\n",
    "\n",
    "\n",
    "\n",
    "The program should allow the user to choose the desired convertion over and over again until user chooses to quit using it.\n"
   ]
  },
  {
   "cell_type": "markdown",
   "id": "3da2a6f2-a99a-4da1-8516-74712e6a1e2d",
   "metadata": {},
   "source": [
    "**UI packages importing section:**"
   ]
  },
  {
   "cell_type": "code",
   "execution_count": null,
   "id": "816ae771-f9ef-49cb-af36-85ee5ea87dea",
   "metadata": {},
   "outputs": [],
   "source": [
    "import ipywidgets as widgets\n",
    "from IPython.display import display, clear_output\n"
   ]
  },
  {
   "cell_type": "markdown",
   "id": "28d1cba2-e5a9-45a6-b22b-56266a593228",
   "metadata": {},
   "source": [
    "**functions**"
   ]
  },
  {
   "cell_type": "code",
   "execution_count": 19,
   "id": "46e7e0b8-cc04-4880-9bee-6e74b958de3e",
   "metadata": {},
   "outputs": [],
   "source": [
    "# Temperature conversion functions\n",
    "def fahrenheit_to_celsius(f):\n",
    "    return (f - 32) * 5/9\n",
    "\n",
    "def celsius_to_fahrenheit(c):\n",
    "    return (c * 9/5) + 32\n",
    "\n",
    "# Length conversion functions\n",
    "def miles_to_km(miles):\n",
    "    return miles * 1.60934\n",
    "\n",
    "def km_to_miles(km):\n",
    "    return km / 1.60934\n",
    "\n",
    "# Weight conversion functions\n",
    "def pounds_to_kg(pounds):\n",
    "    return pounds * 0.453592\n",
    "\n",
    "def kg_to_pounds(kg):\n",
    "    return kg / 0.453592\n",
    "\n",
    "# Pressure conversion functions\n",
    "def pascal_to_bar(pa):\n",
    "    return pa / 100000\n",
    "\n",
    "def bar_to_pascal(bar):\n",
    "    return bar * 100000\n"
   ]
  },
  {
   "cell_type": "markdown",
   "id": "2bd8a72f-394f-4522-93c5-66b8c6f86fb4",
   "metadata": {},
   "source": [
    "**UI**"
   ]
  },
  {
   "cell_type": "code",
   "execution_count": 21,
   "id": "1deb4b6e-de3f-4eaf-bcd5-2edf9a04a778",
   "metadata": {},
   "outputs": [],
   "source": [
    "# UI elements\n",
    "conversion_type = widgets.Dropdown(\n",
    "    options=['Choose','Temperature', 'Length', 'Weight', 'Pressure'],\n",
    "    description='Conversion Type:',\n",
    ")\n",
    "\n",
    "input_value = widgets.FloatText(\n",
    "    description='Input Value:',\n",
    "    value=0\n",
    ")\n",
    "\n",
    "input_unit = widgets.Dropdown(\n",
    "    options=[],\n",
    "    description='Input Unit:',\n",
    ")\n",
    "\n",
    "output_value = widgets.FloatText(\n",
    "    description='Output Value:',\n",
    "    value=0,\n",
    "    disabled=True\n",
    ")"
   ]
  },
  {
   "cell_type": "markdown",
   "id": "7decc042-58d5-4f2f-a6f6-4ae69d3c7fce",
   "metadata": {},
   "source": [
    "**Convertor with UI interaction**"
   ]
  },
  {
   "cell_type": "code",
   "execution_count": 23,
   "id": "3e64d6ab-a158-4b59-9821-5566b4e92c12",
   "metadata": {},
   "outputs": [
    {
     "data": {
      "application/vnd.jupyter.widget-view+json": {
       "model_id": "d11196b912694c41bdd77d7e917a1e18",
       "version_major": 2,
       "version_minor": 0
      },
      "text/plain": [
       "Dropdown(description='Conversion Type:', options=('Choose', 'Temperature', 'Length', 'Weight', 'Pressure'), va…"
      ]
     },
     "metadata": {},
     "output_type": "display_data"
    },
    {
     "data": {
      "application/vnd.jupyter.widget-view+json": {
       "model_id": "0cd820ec3bc1444d8d549d08d79d7cf8",
       "version_major": 2,
       "version_minor": 0
      },
      "text/plain": [
       "Dropdown(description='Input Unit:', options=(), value=None)"
      ]
     },
     "metadata": {},
     "output_type": "display_data"
    },
    {
     "data": {
      "application/vnd.jupyter.widget-view+json": {
       "model_id": "35e0ab1c190d404080ecfc991f07931f",
       "version_major": 2,
       "version_minor": 0
      },
      "text/plain": [
       "FloatText(value=0.0, description='Input Value:')"
      ]
     },
     "metadata": {},
     "output_type": "display_data"
    },
    {
     "data": {
      "application/vnd.jupyter.widget-view+json": {
       "model_id": "6afa437c14b34e159892aaf32047a1e2",
       "version_major": 2,
       "version_minor": 0
      },
      "text/plain": [
       "Button(description='Convert', style=ButtonStyle())"
      ]
     },
     "metadata": {},
     "output_type": "display_data"
    },
    {
     "data": {
      "application/vnd.jupyter.widget-view+json": {
       "model_id": "d6a2cbd4678b482e9817d446544519a9",
       "version_major": 2,
       "version_minor": 0
      },
      "text/plain": [
       "FloatText(value=0.0, description='Output Value:', disabled=True)"
      ]
     },
     "metadata": {},
     "output_type": "display_data"
    },
    {
     "data": {
      "application/vnd.jupyter.widget-view+json": {
       "model_id": "4c30345962ff4408bb3a70e05c15a82c",
       "version_major": 2,
       "version_minor": 0
      },
      "text/plain": [
       "Output()"
      ]
     },
     "metadata": {},
     "output_type": "display_data"
    }
   ],
   "source": [
    "\n",
    "#check the conversion updates\n",
    "def update_units(change):\n",
    "    if conversion_type.value == 'Temperature':\n",
    "        input_unit.options = ['Fahrenheit', 'Celsius']\n",
    "    elif conversion_type.value == 'Length':\n",
    "        input_unit.options = ['Miles', 'Kilometers']\n",
    "    elif conversion_type.value == 'Weight':\n",
    "        input_unit.options = ['Pounds', 'Kilograms']\n",
    "    elif conversion_type.value == 'Pressure':\n",
    "        input_unit.options = ['Pascal', 'Bar']\n",
    "\n",
    "#Select Conversion formula by changing units\n",
    "def convert(change):\n",
    "    if conversion_type.value == 'Temperature':\n",
    "        if input_unit.value == 'Fahrenheit':\n",
    "            output_value.value = fahrenheit_to_celsius(input_value.value)\n",
    "        else:\n",
    "            output_value.value = celsius_to_fahrenheit(input_value.value)\n",
    "    elif conversion_type.value == 'Length':\n",
    "        if input_unit.value == 'Miles':\n",
    "            output_value.value = miles_to_km(input_value.value)\n",
    "        else:\n",
    "            output_value.value = km_to_miles(input_value.value)\n",
    "    elif conversion_type.value == 'Weight':\n",
    "        if input_unit.value == 'Pounds':\n",
    "            output_value.value = pounds_to_kg(input_value.value)\n",
    "        else:\n",
    "            output_value.value = kg_to_pounds(input_value.value)\n",
    "    elif conversion_type.value == 'Pressure':\n",
    "        if input_unit.value == 'Pascal':\n",
    "            output_value.value = pascal_to_bar(input_value.value)\n",
    "        else:\n",
    "            output_value.value = bar_to_pascal(input_value.value)\n",
    "\n",
    "# Button to trigger conversion\n",
    "convert_button = widgets.Button(\n",
    "    description='Convert'\n",
    ")\n",
    "\n",
    "# Display the output\n",
    "output_area = widgets.Output()\n",
    "\n",
    "# Link functions to events\n",
    "conversion_type.observe(update_units, names='value')\n",
    "convert_button.on_click(convert)\n",
    "\n",
    "# Display the UI components\n",
    "display(conversion_type, input_unit, input_value, convert_button, output_value, output_area)"
   ]
  },
  {
   "cell_type": "code",
   "execution_count": null,
   "id": "33fdf81c-774b-48bd-a0a5-732a47600731",
   "metadata": {},
   "outputs": [],
   "source": []
  }
 ],
 "metadata": {
  "kernelspec": {
   "display_name": "anaconda-panel-2023.05-py310",
   "language": "python",
   "name": "conda-env-anaconda-panel-2023.05-py310-py"
  },
  "language_info": {
   "codemirror_mode": {
    "name": "ipython",
    "version": 3
   },
   "file_extension": ".py",
   "mimetype": "text/x-python",
   "name": "python",
   "nbconvert_exporter": "python",
   "pygments_lexer": "ipython3",
   "version": "3.11.5"
  }
 },
 "nbformat": 4,
 "nbformat_minor": 5
}
